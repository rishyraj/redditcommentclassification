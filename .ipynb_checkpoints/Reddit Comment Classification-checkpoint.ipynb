{
 "cells": [
  {
   "cell_type": "markdown",
   "metadata": {},
   "source": [
    "<h1 style=\"text-align: center\">Classifying r/science comments on the basis of whether they should be kept or banned</h1>"
   ]
  },
  {
   "cell_type": "markdown",
   "metadata": {},
   "source": [
    "<h3>First, let's import the necessary libraries</h3>"
   ]
  },
  {
   "cell_type": "code",
   "execution_count": 76,
   "metadata": {},
   "outputs": [],
   "source": [
    "import pandas as pd\n",
    "import sklearn.utils\n",
    "from sklearn.feature_extraction.text import CountVectorizer, TfidfTransformer\n",
    "from sklearn.naive_bayes import MultinomialNB\n",
    "from sklearn.linear_model import SGDClassifier\n",
    "from sklearn.neural_network import MLPClassifier\n",
    "from nltk.corpus import stopwords\n",
    "from nltk.tokenize import word_tokenize\n",
    "import numpy as np"
   ]
  },
  {
   "cell_type": "markdown",
   "metadata": {},
   "source": [
    "<h3>Reading the csv files containing reddit comments and their classification (kept or banned)</h3>"
   ]
  },
  {
   "cell_type": "code",
   "execution_count": 2,
   "metadata": {},
   "outputs": [],
   "source": [
    "train_raw = pd.read_csv('data/reddit_train.csv', encoding = 'latin-1')\n",
    "test_raw = pd.read_csv('data/reddit_test.csv', encoding = 'latin-1')"
   ]
  },
  {
   "cell_type": "markdown",
   "metadata": {},
   "source": [
    "<h3>Preprocess training data</h3>"
   ]
  },
  {
   "cell_type": "code",
   "execution_count": 41,
   "metadata": {},
   "outputs": [],
   "source": [
    "#English Stopwords and Punctuation\n",
    "stop_words = set(stopwords.words('english'))\n",
    "punctuation = set(['.','?','!',',','@',':',';',\"'\",\"\\\"\",\"\\\\\",\"/\",\"(\",\")\",'-','_','+','=','*','&','^','%','$','#','@','`','~',\"[\",\"{\",\"}\",\"]\",'|',\"<\",\">\"])\n",
    "\n",
    "#Shuffle the dataframe\n",
    "train_raw = sklearn.utils.shuffle(train_raw)\n",
    "test_raw = sklearn.utils.shuffle(test_raw)\n",
    "\n",
    "#Separate text and labels\n",
    "train_text = list(train_raw[\"BODY\"])\n",
    "train_labels = list(train_raw[\"REMOVED\"])\n",
    "test_text = list(test_raw[\"BODY\"])\n",
    "test_labels = list(test_raw[\"REMOVED\"])\n",
    "\n",
    "#Remove stopwords and punctuation from sentence\n",
    "for i,text in enumerate(train_text):\n",
    "    sentence_processed = \"\"\n",
    "    words = word_tokenize(text)\n",
    "    for word in words:\n",
    "        if word not in stop_words and word not in punctuation:\n",
    "            sentence_processed+=word+\" \"\n",
    "    train_text[i]=sentence_processed\n",
    "\n",
    "for i,text in enumerate(test_text):\n",
    "    sentence_processed = \"\"\n",
    "    words = word_tokenize(text)\n",
    "    for word in words:\n",
    "        if word not in stop_words and word not in punctuation:\n",
    "            sentence_processed+=word+\" \"\n",
    "    test_text[i]=sentence_processed"
   ]
  },
  {
   "cell_type": "code",
   "execution_count": 45,
   "metadata": {},
   "outputs": [],
   "source": [
    "#Get \"Bag of Words\" using CountVectorizer\n",
    "count_vect = CountVectorizer()\n",
    "train_text_counts = count_vect.fit_transform(train_text)\n",
    "test_text_counts = count_vect.transform(test_text)\n",
    "\n",
    "#Downscale to Term Frequencies\n",
    "tfidf_transformer = TfidfTransformer()\n",
    "train_text_tfidf = tfidf_transformer.fit_transform(train_text_counts)\n",
    "test_text_tfidf = tfidf_transformer.fit_transform(test_text_counts)"
   ]
  },
  {
   "cell_type": "markdown",
   "metadata": {},
   "source": [
    "<h3>Train a Naive Bayes Multinomial Classifier</h3>"
   ]
  },
  {
   "cell_type": "code",
   "execution_count": 46,
   "metadata": {},
   "outputs": [],
   "source": [
    "clf = MultinomialNB().fit(train_text_tfidf, train_labels)"
   ]
  },
  {
   "cell_type": "markdown",
   "metadata": {},
   "source": [
    "<h3>Evaluate NB Multinomial Classifier</h3>"
   ]
  },
  {
   "cell_type": "code",
   "execution_count": 56,
   "metadata": {},
   "outputs": [
    {
     "name": "stdout",
     "output_type": "stream",
     "text": [
      "0.6946983546617916\n"
     ]
    }
   ],
   "source": [
    "predicted = clf.predict(test_text_tfidf)\n",
    "acc = np.mean(predicted==test_labels)\n",
    "print(acc)"
   ]
  },
  {
   "cell_type": "markdown",
   "metadata": {},
   "source": [
    "<h3>Achieved a 69.47% accuracy with the NB Multinomial Classifier</h3>"
   ]
  },
  {
   "cell_type": "markdown",
   "metadata": {},
   "source": [
    "<h3>Train a Support Vector Machine (SVM)</h3>"
   ]
  },
  {
   "cell_type": "code",
   "execution_count": 73,
   "metadata": {},
   "outputs": [],
   "source": [
    "clf_svm = SGDClassifier(loss='hinge', penalty='l2',\n",
    "                        random_state=42, max_iter=5, \n",
    "                        tol=None).fit(train_text_tfidf, train_labels)\n"
   ]
  },
  {
   "cell_type": "markdown",
   "metadata": {},
   "source": [
    "<h3>Evaluate SVM Classifier</h3>"
   ]
  },
  {
   "cell_type": "code",
   "execution_count": 74,
   "metadata": {},
   "outputs": [
    {
     "name": "stdout",
     "output_type": "stream",
     "text": [
      "0.7404021937842779\n"
     ]
    }
   ],
   "source": [
    "predicted = clf_svm.predict(test_text_tfidf)\n",
    "acc = np.mean(predicted==test_labels)\n",
    "print(acc)"
   ]
  },
  {
   "cell_type": "markdown",
   "metadata": {},
   "source": [
    "<h3>Achieved a 74.04% accuracy with the SVM</h3>"
   ]
  },
  {
   "cell_type": "markdown",
   "metadata": {},
   "source": [
    "<h3>Train a Multi-Layer Perceptron Classifier (MLP)</h3>"
   ]
  },
  {
   "cell_type": "code",
   "execution_count": 87,
   "metadata": {},
   "outputs": [],
   "source": [
    "clf_mlp = MLPClassifier(random_state=42, \n",
    "                        early_stopping=True, \n",
    "                        n_iter_no_change=5).fit(train_text_tfidf,train_labels)"
   ]
  },
  {
   "cell_type": "markdown",
   "metadata": {},
   "source": [
    "<h3>Evaluate MLP Classifier</h3>"
   ]
  },
  {
   "cell_type": "code",
   "execution_count": 88,
   "metadata": {},
   "outputs": [
    {
     "name": "stdout",
     "output_type": "stream",
     "text": [
      "0.7515117423709745\n"
     ]
    }
   ],
   "source": [
    "predicted = clf_mlp.predict(test_text_tfidf)\n",
    "acc = np.mean(predicted==test_labels)\n",
    "print(acc)"
   ]
  },
  {
   "cell_type": "markdown",
   "metadata": {},
   "source": [
    "<h3>Achieved a 75.15% accuracy with the MLP</h3>"
   ]
  }
 ],
 "metadata": {
  "kernelspec": {
   "display_name": "Python 3",
   "language": "python",
   "name": "python3"
  },
  "language_info": {
   "codemirror_mode": {
    "name": "ipython",
    "version": 3
   },
   "file_extension": ".py",
   "mimetype": "text/x-python",
   "name": "python",
   "nbconvert_exporter": "python",
   "pygments_lexer": "ipython3",
   "version": "3.7.2"
  }
 },
 "nbformat": 4,
 "nbformat_minor": 2
}
